{
 "cells": [
  {
   "cell_type": "code",
   "execution_count": 3,
   "id": "ff77452f",
   "metadata": {},
   "outputs": [],
   "source": [
    "import pandas as pd \n",
    "df = pd.read_csv('Orders.csv', delimiter=';')"
   ]
  },
  {
   "cell_type": "code",
   "execution_count": 4,
   "id": "70a06c5d",
   "metadata": {},
   "outputs": [
    {
     "data": {
      "text/html": [
       "<div>\n",
       "<style scoped>\n",
       "    .dataframe tbody tr th:only-of-type {\n",
       "        vertical-align: middle;\n",
       "    }\n",
       "\n",
       "    .dataframe tbody tr th {\n",
       "        vertical-align: top;\n",
       "    }\n",
       "\n",
       "    .dataframe thead th {\n",
       "        text-align: right;\n",
       "    }\n",
       "</style>\n",
       "<table border=\"1\" class=\"dataframe\">\n",
       "  <thead>\n",
       "    <tr style=\"text-align: right;\">\n",
       "      <th></th>\n",
       "      <th>Row ID</th>\n",
       "      <th>Order ID</th>\n",
       "      <th>Order Date</th>\n",
       "      <th>Ship Date</th>\n",
       "      <th>Ship Mode</th>\n",
       "      <th>Customer ID</th>\n",
       "      <th>Segment</th>\n",
       "      <th>Postal Code</th>\n",
       "      <th>Product ID</th>\n",
       "      <th>Sales</th>\n",
       "      <th>Quantity</th>\n",
       "      <th>Discount</th>\n",
       "      <th>Profit</th>\n",
       "    </tr>\n",
       "  </thead>\n",
       "  <tbody>\n",
       "    <tr>\n",
       "      <th>5264</th>\n",
       "      <td>5265</td>\n",
       "      <td>CA-2020-105165</td>\n",
       "      <td>07/09/2020</td>\n",
       "      <td>10/09/2020</td>\n",
       "      <td>First Class</td>\n",
       "      <td>SZ-20035</td>\n",
       "      <td>Home Office</td>\n",
       "      <td>77036</td>\n",
       "      <td>OFF-AR-10003179</td>\n",
       "      <td>21.864</td>\n",
       "      <td>3</td>\n",
       "      <td>0.2</td>\n",
       "      <td>3.5529</td>\n",
       "    </tr>\n",
       "    <tr>\n",
       "      <th>2272</th>\n",
       "      <td>2273</td>\n",
       "      <td>CA-2021-142944</td>\n",
       "      <td>06/03/2021</td>\n",
       "      <td>11/03/2021</td>\n",
       "      <td>Standard Class</td>\n",
       "      <td>JL-15850</td>\n",
       "      <td>Consumer</td>\n",
       "      <td>94122</td>\n",
       "      <td>FUR-FU-10000308</td>\n",
       "      <td>435.260</td>\n",
       "      <td>7</td>\n",
       "      <td>0.0</td>\n",
       "      <td>95.7572</td>\n",
       "    </tr>\n",
       "    <tr>\n",
       "      <th>3809</th>\n",
       "      <td>3810</td>\n",
       "      <td>CA-2021-113628</td>\n",
       "      <td>12/11/2021</td>\n",
       "      <td>19/11/2021</td>\n",
       "      <td>Standard Class</td>\n",
       "      <td>AH-10690</td>\n",
       "      <td>Corporate</td>\n",
       "      <td>33317</td>\n",
       "      <td>FUR-CH-10003298</td>\n",
       "      <td>523.920</td>\n",
       "      <td>5</td>\n",
       "      <td>0.2</td>\n",
       "      <td>-72.0390</td>\n",
       "    </tr>\n",
       "    <tr>\n",
       "      <th>929</th>\n",
       "      <td>930</td>\n",
       "      <td>CA-2023-144932</td>\n",
       "      <td>14/04/2023</td>\n",
       "      <td>17/04/2023</td>\n",
       "      <td>First Class</td>\n",
       "      <td>AB-10165</td>\n",
       "      <td>Consumer</td>\n",
       "      <td>43615</td>\n",
       "      <td>OFF-AR-10003560</td>\n",
       "      <td>14.592</td>\n",
       "      <td>3</td>\n",
       "      <td>0.2</td>\n",
       "      <td>2.5536</td>\n",
       "    </tr>\n",
       "    <tr>\n",
       "      <th>2439</th>\n",
       "      <td>2440</td>\n",
       "      <td>CA-2023-139948</td>\n",
       "      <td>17/07/2023</td>\n",
       "      <td>22/07/2023</td>\n",
       "      <td>Standard Class</td>\n",
       "      <td>SW-20455</td>\n",
       "      <td>Consumer</td>\n",
       "      <td>33614</td>\n",
       "      <td>FUR-FU-10002597</td>\n",
       "      <td>7.904</td>\n",
       "      <td>2</td>\n",
       "      <td>0.2</td>\n",
       "      <td>2.1736</td>\n",
       "    </tr>\n",
       "    <tr>\n",
       "      <th>3493</th>\n",
       "      <td>3494</td>\n",
       "      <td>CA-2023-142034</td>\n",
       "      <td>24/09/2023</td>\n",
       "      <td>28/09/2023</td>\n",
       "      <td>Standard Class</td>\n",
       "      <td>KB-16240</td>\n",
       "      <td>Corporate</td>\n",
       "      <td>56301</td>\n",
       "      <td>TEC-AC-10002305</td>\n",
       "      <td>72.000</td>\n",
       "      <td>4</td>\n",
       "      <td>0.0</td>\n",
       "      <td>12.9600</td>\n",
       "    </tr>\n",
       "    <tr>\n",
       "      <th>5346</th>\n",
       "      <td>5347</td>\n",
       "      <td>CA-2023-108539</td>\n",
       "      <td>21/03/2023</td>\n",
       "      <td>23/03/2023</td>\n",
       "      <td>Second Class</td>\n",
       "      <td>SC-20725</td>\n",
       "      <td>Consumer</td>\n",
       "      <td>90045</td>\n",
       "      <td>OFF-BI-10003981</td>\n",
       "      <td>10.896</td>\n",
       "      <td>3</td>\n",
       "      <td>0.2</td>\n",
       "      <td>3.9498</td>\n",
       "    </tr>\n",
       "    <tr>\n",
       "      <th>6174</th>\n",
       "      <td>6175</td>\n",
       "      <td>US-2020-106299</td>\n",
       "      <td>02/08/2020</td>\n",
       "      <td>08/08/2020</td>\n",
       "      <td>Standard Class</td>\n",
       "      <td>NZ-18565</td>\n",
       "      <td>Home Office</td>\n",
       "      <td>65807</td>\n",
       "      <td>OFF-ST-10002011</td>\n",
       "      <td>838.380</td>\n",
       "      <td>2</td>\n",
       "      <td>0.0</td>\n",
       "      <td>226.3626</td>\n",
       "    </tr>\n",
       "    <tr>\n",
       "      <th>2266</th>\n",
       "      <td>2267</td>\n",
       "      <td>CA-2023-149146</td>\n",
       "      <td>12/10/2023</td>\n",
       "      <td>12/10/2023</td>\n",
       "      <td>Same Day</td>\n",
       "      <td>SM-20320</td>\n",
       "      <td>Home Office</td>\n",
       "      <td>28110</td>\n",
       "      <td>OFF-PA-10003919</td>\n",
       "      <td>7.968</td>\n",
       "      <td>2</td>\n",
       "      <td>0.2</td>\n",
       "      <td>2.6892</td>\n",
       "    </tr>\n",
       "    <tr>\n",
       "      <th>9209</th>\n",
       "      <td>9210</td>\n",
       "      <td>CA-2023-142776</td>\n",
       "      <td>11/12/2023</td>\n",
       "      <td>14/12/2023</td>\n",
       "      <td>Second Class</td>\n",
       "      <td>RS-19870</td>\n",
       "      <td>Home Office</td>\n",
       "      <td>52601</td>\n",
       "      <td>OFF-EN-10003160</td>\n",
       "      <td>7.280</td>\n",
       "      <td>1</td>\n",
       "      <td>0.0</td>\n",
       "      <td>3.4944</td>\n",
       "    </tr>\n",
       "  </tbody>\n",
       "</table>\n",
       "</div>"
      ],
      "text/plain": [
       "      Row ID        Order ID  Order Date   Ship Date       Ship Mode  \\\n",
       "5264    5265  CA-2020-105165  07/09/2020  10/09/2020     First Class   \n",
       "2272    2273  CA-2021-142944  06/03/2021  11/03/2021  Standard Class   \n",
       "3809    3810  CA-2021-113628  12/11/2021  19/11/2021  Standard Class   \n",
       "929      930  CA-2023-144932  14/04/2023  17/04/2023     First Class   \n",
       "2439    2440  CA-2023-139948  17/07/2023  22/07/2023  Standard Class   \n",
       "3493    3494  CA-2023-142034  24/09/2023  28/09/2023  Standard Class   \n",
       "5346    5347  CA-2023-108539  21/03/2023  23/03/2023    Second Class   \n",
       "6174    6175  US-2020-106299  02/08/2020  08/08/2020  Standard Class   \n",
       "2266    2267  CA-2023-149146  12/10/2023  12/10/2023        Same Day   \n",
       "9209    9210  CA-2023-142776  11/12/2023  14/12/2023    Second Class   \n",
       "\n",
       "     Customer ID      Segment  Postal Code       Product ID    Sales  \\\n",
       "5264    SZ-20035  Home Office        77036  OFF-AR-10003179   21.864   \n",
       "2272    JL-15850     Consumer        94122  FUR-FU-10000308  435.260   \n",
       "3809    AH-10690    Corporate        33317  FUR-CH-10003298  523.920   \n",
       "929     AB-10165     Consumer        43615  OFF-AR-10003560   14.592   \n",
       "2439    SW-20455     Consumer        33614  FUR-FU-10002597    7.904   \n",
       "3493    KB-16240    Corporate        56301  TEC-AC-10002305   72.000   \n",
       "5346    SC-20725     Consumer        90045  OFF-BI-10003981   10.896   \n",
       "6174    NZ-18565  Home Office        65807  OFF-ST-10002011  838.380   \n",
       "2266    SM-20320  Home Office        28110  OFF-PA-10003919    7.968   \n",
       "9209    RS-19870  Home Office        52601  OFF-EN-10003160    7.280   \n",
       "\n",
       "      Quantity  Discount    Profit  \n",
       "5264         3       0.2    3.5529  \n",
       "2272         7       0.0   95.7572  \n",
       "3809         5       0.2  -72.0390  \n",
       "929          3       0.2    2.5536  \n",
       "2439         2       0.2    2.1736  \n",
       "3493         4       0.0   12.9600  \n",
       "5346         3       0.2    3.9498  \n",
       "6174         2       0.0  226.3626  \n",
       "2266         2       0.2    2.6892  \n",
       "9209         1       0.0    3.4944  "
      ]
     },
     "execution_count": 4,
     "metadata": {},
     "output_type": "execute_result"
    }
   ],
   "source": [
    "df.sample(10)"
   ]
  },
  {
   "cell_type": "code",
   "execution_count": 5,
   "id": "1b37ac52",
   "metadata": {},
   "outputs": [
    {
     "data": {
      "text/plain": [
       "Row ID           int64\n",
       "Order ID        object\n",
       "Order Date      object\n",
       "Ship Date       object\n",
       "Ship Mode       object\n",
       "Customer ID     object\n",
       "Segment         object\n",
       "Postal Code      int64\n",
       "Product ID      object\n",
       "Sales          float64\n",
       "Quantity         int64\n",
       "Discount       float64\n",
       "Profit         float64\n",
       "dtype: object"
      ]
     },
     "execution_count": 5,
     "metadata": {},
     "output_type": "execute_result"
    }
   ],
   "source": [
    "df.dtypes"
   ]
  },
  {
   "cell_type": "code",
   "execution_count": 6,
   "id": "04adcc1f",
   "metadata": {},
   "outputs": [
    {
     "data": {
      "text/plain": [
       "2297200.8603000003"
      ]
     },
     "execution_count": 6,
     "metadata": {},
     "output_type": "execute_result"
    }
   ],
   "source": [
    "df['Sales'].sum()"
   ]
  },
  {
   "cell_type": "code",
   "execution_count": 7,
   "id": "d9fa0d36",
   "metadata": {},
   "outputs": [
    {
     "data": {
      "text/plain": [
       "286397.0217"
      ]
     },
     "execution_count": 7,
     "metadata": {},
     "output_type": "execute_result"
    }
   ],
   "source": [
    "df['Profit'].sum()"
   ]
  },
  {
   "cell_type": "code",
   "execution_count": 8,
   "id": "c614b32b",
   "metadata": {},
   "outputs": [
    {
     "data": {
      "text/plain": [
       "9994"
      ]
     },
     "execution_count": 8,
     "metadata": {},
     "output_type": "execute_result"
    }
   ],
   "source": [
    "len(df)"
   ]
  },
  {
   "cell_type": "code",
   "execution_count": null,
   "id": "fea48799",
   "metadata": {},
   "outputs": [],
   "source": []
  }
 ],
 "metadata": {
  "kernelspec": {
   "display_name": "Python 3 (ipykernel)",
   "language": "python",
   "name": "python3"
  },
  "language_info": {
   "codemirror_mode": {
    "name": "ipython",
    "version": 3
   },
   "file_extension": ".py",
   "mimetype": "text/x-python",
   "name": "python",
   "nbconvert_exporter": "python",
   "pygments_lexer": "ipython3",
   "version": "3.11.5"
  }
 },
 "nbformat": 4,
 "nbformat_minor": 5
}
